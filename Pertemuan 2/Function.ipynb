{
 "cells": [
  {
   "cell_type": "markdown",
   "id": "b6cf7080-49d2-4f62-a64d-58f29aaf5a87",
   "metadata": {},
   "source": [
    "# Function"
   ]
  },
  {
   "cell_type": "markdown",
   "id": "242a040c-1dc7-4a3f-8de5-9cb1552c6724",
   "metadata": {},
   "source": [
    "Function/method merupakan blok kode untuk mengorganisir kode di dalamnya agar dapat digunakan kembali (reusability) dan memisahkan logika tertentu ke dalam unit terpisah"
   ]
  },
  {
   "cell_type": "markdown",
   "id": "8a22dffc-8f3c-4b93-ad9d-85654a5facbe",
   "metadata": {},
   "source": [
    "# Fungsi tanpa argumen dan return"
   ]
  },
  {
   "cell_type": "code",
   "execution_count": 3,
   "id": "3aa8e8f9-5232-49fb-894b-bd63b94b9a07",
   "metadata": {},
   "outputs": [],
   "source": [
    "def hallo_world():\n",
    "    print (\"Hello world\")\n",
    "    print (\"Hari ini belajar data science\")"
   ]
  },
  {
   "cell_type": "code",
   "execution_count": 4,
   "id": "05396e30-ed46-4ffd-8f1f-c2af72c7dc8a",
   "metadata": {},
   "outputs": [
    {
     "name": "stdout",
     "output_type": "stream",
     "text": [
      "Hello world\n",
      "Hari ini belajar data science\n"
     ]
    }
   ],
   "source": [
    "#cara memanggil fungsi\n",
    "# hallo_world\n",
    "hallo_world()"
   ]
  },
  {
   "cell_type": "markdown",
   "id": "cdc9cd5b-5e74-42ee-b123-28eb23799a27",
   "metadata": {},
   "source": [
    "# Fungsi dengan argumen"
   ]
  },
  {
   "cell_type": "code",
   "execution_count": 5,
   "id": "2ab35a81-b45a-418a-a272-0825df0bc65a",
   "metadata": {},
   "outputs": [],
   "source": [
    "def panggil(nama):\n",
    "    '''Body fungsi'''\n",
    "    print(f\"Hallo {nama}\")"
   ]
  },
  {
   "cell_type": "code",
   "execution_count": 6,
   "id": "d2a668dc-d20c-4807-8177-cc1b6cf0950b",
   "metadata": {},
   "outputs": [
    {
     "name": "stdout",
     "output_type": "stream",
     "text": [
      "Hallo agus\n",
      "Hallo adit\n"
     ]
    }
   ],
   "source": [
    "panggil(\"agus\")\n",
    "panggil(\"adit\")"
   ]
  },
  {
   "cell_type": "code",
   "execution_count": 7,
   "id": "15a3a4d3-c841-4f6f-8f50-a83ea95fd21d",
   "metadata": {},
   "outputs": [],
   "source": [
    "def tambah(angka1,angka2):\n",
    "    hasil = angka1 + angka2\n",
    "    print(f\"Hasil penjumlahan dari {angka1} + {angka2} adalah {hasil}\")"
   ]
  },
  {
   "cell_type": "code",
   "execution_count": 8,
   "id": "2c1fe57a-27a3-4d52-baf8-d927dc0aea70",
   "metadata": {},
   "outputs": [
    {
     "name": "stdout",
     "output_type": "stream",
     "text": [
      "Hasil penjumlahan dari 6 + 4 adalah 10\n"
     ]
    }
   ],
   "source": [
    "tambah(6,4)"
   ]
  },
  {
   "cell_type": "code",
   "execution_count": 9,
   "id": "e4bf3cfe",
   "metadata": {},
   "outputs": [],
   "source": [
    "def tambah(angka1,angka2,angka3):\n",
    "    hasil = angka1 + angka2 + angka3\n",
    "    print(f\"Hasil penjumlahan dari {angka1} + {angka2} + {angka3} adalah {hasil}\")"
   ]
  },
  {
   "cell_type": "code",
   "execution_count": 10,
   "id": "7c5b00e4",
   "metadata": {},
   "outputs": [
    {
     "name": "stdout",
     "output_type": "stream",
     "text": [
      "Hasil penjumlahan dari 6 + 4 + 12 adalah 22\n"
     ]
    }
   ],
   "source": [
    "tambah(6,4,12)"
   ]
  },
  {
   "cell_type": "code",
   "execution_count": 12,
   "id": "13382e00-918c-41a2-b2b0-d1e84a4e48e4",
   "metadata": {},
   "outputs": [],
   "source": [
    "def absen(list_anggotaTI):\n",
    "    list_anggota = list_anggotaTI.copy()\n",
    "    for anggota in list_anggota:\n",
    "        print (f\"Hallo : {anggota}\")"
   ]
  },
  {
   "cell_type": "code",
   "execution_count": 13,
   "id": "22850dab-9c79-41fd-89f3-ddc459d9d86c",
   "metadata": {},
   "outputs": [
    {
     "name": "stdout",
     "output_type": "stream",
     "text": [
      "Hallo : Bill\n",
      "Hallo : Huda\n",
      "Hallo : Lutfhi\n"
     ]
    }
   ],
   "source": [
    "anggota_TI22=['Bill','Huda','Lutfhi']\n",
    "absen(anggota_TI22)"
   ]
  },
  {
   "cell_type": "code",
   "execution_count": 14,
   "id": "54b844e5",
   "metadata": {},
   "outputs": [],
   "source": [
    "def hewan (list_hewan):\n",
    "          list_hewanmamalia = list_hewan.copy()\n",
    "          for anggota in list_hewanmamalia:\n",
    "                  print(f\"{anggota} adalah hewan mamalia\")"
   ]
  },
  {
   "cell_type": "code",
   "execution_count": 15,
   "id": "bf38ef78",
   "metadata": {},
   "outputs": [
    {
     "name": "stdout",
     "output_type": "stream",
     "text": [
      "sapi adalah hewan mamalia\n",
      "harimau adalah hewan mamalia\n",
      "singa adalah hewan mamalia\n",
      "kambing adalah hewan mamalia\n"
     ]
    }
   ],
   "source": [
    "hewan_mamalia=['sapi', 'harimau', 'singa', 'kambing']\n",
    "hewan(hewan_mamalia)"
   ]
  },
  {
   "cell_type": "markdown",
   "id": "719c9c99-ab5a-4b6d-ab16-d7ee82e0e962",
   "metadata": {},
   "source": [
    "# Fungsi dengan Return"
   ]
  },
  {
   "cell_type": "code",
   "execution_count": 16,
   "id": "15b34d8c-43c0-435b-bba2-9980ac89b244",
   "metadata": {},
   "outputs": [],
   "source": [
    "# Fungsi dengan return \n",
    "'''Ditulis dengan cara :\n",
    "def nama_fungsi():\n",
    "    Badan fungsi\n",
    "    return output\n",
    "'''\n",
    "def hitung(x):\n",
    "    hasil = 2*x + 1\n",
    "    return hasil"
   ]
  },
  {
   "cell_type": "code",
   "execution_count": 17,
   "id": "17f82ece-2dbc-4fad-8e3a-7e51902e1e0d",
   "metadata": {},
   "outputs": [
    {
     "data": {
      "text/plain": [
       "7"
      ]
     },
     "execution_count": 17,
     "metadata": {},
     "output_type": "execute_result"
    }
   ],
   "source": [
    "y = hitung (3)\n",
    "y"
   ]
  },
  {
   "cell_type": "code",
   "execution_count": 18,
   "id": "b95d293e-56c5-4ffc-993e-c02eb61e916d",
   "metadata": {},
   "outputs": [],
   "source": [
    "def kuadrat(input_angka):\n",
    "    hasil = input_angka**2\n",
    "    return hasil"
   ]
  },
  {
   "cell_type": "code",
   "execution_count": 19,
   "id": "84730fbb-8b85-4794-a578-68f8d8aeef33",
   "metadata": {},
   "outputs": [
    {
     "data": {
      "text/plain": [
       "4"
      ]
     },
     "execution_count": 19,
     "metadata": {},
     "output_type": "execute_result"
    }
   ],
   "source": [
    "y = kuadrat(2)\n",
    "y"
   ]
  },
  {
   "cell_type": "code",
   "execution_count": 20,
   "id": "5e81dac2",
   "metadata": {},
   "outputs": [],
   "source": [
    "def kalkulator(angka1, angka2):\n",
    "          tambah = angka1 + angka2\n",
    "          kurang = angka1 - angka2\n",
    "          kali = angka1 * angka2\n",
    "          bagi = angka1 / angka2\n",
    "          pangkat = angka1 ** angka2\n",
    "          return tambah,kurang,kali,bagi,pangkat"
   ]
  },
  {
   "cell_type": "code",
   "execution_count": 22,
   "id": "3aa9aa2b",
   "metadata": {},
   "outputs": [
    {
     "name": "stdout",
     "output_type": "stream",
     "text": [
      "Hasil penjumlahan adalah = 11\n",
      "Hasil pengurangan adalah = 1\n",
      "Hasil perkalian adalah = 30\n",
      "Hasil pembagian adalah = 1.2\n",
      "Hasil pemangkatan adalah = 7776\n"
     ]
    }
   ],
   "source": [
    "tambah, kurang, kali, bagi, pangkat = kalkulator(6,5)\n",
    "\n",
    "print(f\"Hasil penjumlahan adalah = {tambah}\")\n",
    "print(f\"Hasil pengurangan adalah = {kurang}\")\n",
    "print(f\"Hasil perkalian adalah = {kali}\")\n",
    "print(f\"Hasil pembagian adalah = {bagi}\")\n",
    "print(f\"Hasil pemangkatan adalah = {pangkat}\")"
   ]
  },
  {
   "cell_type": "markdown",
   "id": "4f0b3233-e0aa-434d-a70d-acab5ebdee2f",
   "metadata": {},
   "source": [
    "# Default Argumen Dalam Fungsi"
   ]
  },
  {
   "cell_type": "code",
   "execution_count": 23,
   "id": "62224dbd-8507-413e-9328-5b27ae418b15",
   "metadata": {},
   "outputs": [],
   "source": [
    "# Contoh 1\n",
    "def say_hi(nama='Huda'):\n",
    "    print (f\"hallo, {nama}\")"
   ]
  },
  {
   "cell_type": "code",
   "execution_count": 24,
   "id": "993b1fe8-1955-41a7-aa4b-942b3e8a5f3d",
   "metadata": {},
   "outputs": [
    {
     "name": "stdout",
     "output_type": "stream",
     "text": [
      "hallo, Huda\n"
     ]
    }
   ],
   "source": [
    "say_hi()"
   ]
  },
  {
   "cell_type": "code",
   "execution_count": 25,
   "id": "f4fde0d6-0a45-4c36-9bd0-b5c92398f91b",
   "metadata": {},
   "outputs": [
    {
     "name": "stdout",
     "output_type": "stream",
     "text": [
      "hallo, Bill\n"
     ]
    }
   ],
   "source": [
    "say_hi('Bill')"
   ]
  },
  {
   "cell_type": "code",
   "execution_count": 27,
   "id": "17d1d5a5-d224-44ae-bdb7-88051f866aed",
   "metadata": {},
   "outputs": [],
   "source": [
    "# Contoh 2\n",
    "def say_hi (nama, pesan='apa kabar?'):\n",
    "    print(f\"Hallo, {nama},{pesan}\")"
   ]
  },
  {
   "cell_type": "code",
   "execution_count": 28,
   "id": "3b5941c1-cac0-48f3-9897-dddcb6fd7446",
   "metadata": {},
   "outputs": [
    {
     "name": "stdout",
     "output_type": "stream",
     "text": [
      "Hallo, Huda,Hari ini belajar apa?\n"
     ]
    }
   ],
   "source": [
    "say_hi('Huda','Hari ini belajar apa?')\n",
    "\n"
   ]
  },
  {
   "cell_type": "code",
   "execution_count": 29,
   "id": "f10dce4a",
   "metadata": {},
   "outputs": [
    {
     "name": "stdout",
     "output_type": "stream",
     "text": [
      "Hallo, tono,apa kabar?\n"
     ]
    }
   ],
   "source": [
    "say_hi('tono')"
   ]
  },
  {
   "cell_type": "code",
   "execution_count": 30,
   "id": "d48e7c9c-8f13-4706-b2ad-9b538c3f0f12",
   "metadata": {},
   "outputs": [],
   "source": [
    "# contoh 3\n",
    "def hitung(input1=1, input2=2, input3=3, input4=4):\n",
    "    hasil= input1 + input2 + input3 + input4\n",
    "    return hasil"
   ]
  },
  {
   "cell_type": "code",
   "execution_count": 32,
   "id": "5525293b-c5c0-4f84-bfa8-ed39566f6797",
   "metadata": {},
   "outputs": [
    {
     "data": {
      "text/plain": [
       "13"
      ]
     },
     "execution_count": 32,
     "metadata": {},
     "output_type": "execute_result"
    }
   ],
   "source": [
    "hitung(input1=3, input4=5)"
   ]
  },
  {
   "cell_type": "markdown",
   "id": "fb960a8b-33b2-41ef-a51e-4cbdc18c6e43",
   "metadata": {},
   "source": [
    "# Type Hints Pada Function"
   ]
  },
  {
   "cell_type": "markdown",
   "id": "377ea701-7d51-49ae-87a1-1246951bef51",
   "metadata": {},
   "source": [
    "Ketika program sudah berukuran besar diperlukan ketelitian pada dokumentasi kode. Jika suatu fungsi diharapkan memiliki parameter dan output tertentu maka harus diberikan type hints pada fungsi tersebut"
   ]
  },
  {
   "cell_type": "code",
   "execution_count": 33,
   "id": "095af6fe-8575-4c1c-b3b5-23b46e2d247d",
   "metadata": {},
   "outputs": [
    {
     "name": "stdout",
     "output_type": "stream",
     "text": [
      "1\n",
      "ini text\n"
     ]
    }
   ],
   "source": [
    "# fungsi normal\n",
    "def fungsi (parameter):\n",
    "    print (parameter)\n",
    "fungsi(1)\n",
    "fungsi(\"ini text\")"
   ]
  },
  {
   "cell_type": "markdown",
   "id": "ff99ecb9-c0e1-44b4-9a58-1a39b377a2da",
   "metadata": {},
   "source": [
    "Function fungsi() memang berjalan Semestinya hal ini karena parameter di dalamnya dapat menerima apa saja hal ini tidak jadi masalah bila fungsi memang dibuat untuk menerima bentuk tipe data yang dimasukkan pengguna"
   ]
  },
  {
   "cell_type": "code",
   "execution_count": 36,
   "id": "aed7627e-5500-4418-a9a8-3cfa3a27ada9",
   "metadata": {},
   "outputs": [
    {
     "data": {
      "text/plain": [
       "64"
      ]
     },
     "execution_count": 36,
     "metadata": {},
     "output_type": "execute_result"
    }
   ],
   "source": [
    "# fungsi menghitung perpangkatan\n",
    "def pangkat(angka:int):\n",
    "    hasil = angka**2\n",
    "    return hasil\n",
    "\n",
    "y= pangkat(8)\n",
    "y"
   ]
  },
  {
   "cell_type": "markdown",
   "id": "e34c0d84-c4dd-4db3-bdcd-6ce211362de4",
   "metadata": {},
   "source": [
    "Jawaban dari pertanyaan sebelumnya terletak pada kode di atas. Pada fungsi `pangkat(angka:int)` parameternya diberikan `hint` yaitu tipe data yang harus dimasukkan adalah integer. Akan tetapi sebenarnya output pada fungsi tersebut masih berupa `any`. Artinya output nya berupa 'apapun'\n",
    "\n",
    "Secara logika, output yang dikeluarkan pun harusnya adalah integer maka modifikasi dari kode tersebut adalah sebagai berikut:"
   ]
  },
  {
   "cell_type": "code",
   "execution_count": 37,
   "id": "8a82e54f-30ed-4dae-9167-f5047aa2bec4",
   "metadata": {},
   "outputs": [
    {
     "data": {
      "text/plain": [
       "144"
      ]
     },
     "execution_count": 37,
     "metadata": {},
     "output_type": "execute_result"
    }
   ],
   "source": [
    "# fungsi menghitung perpangkatan\n",
    "def pangkat(angka:int) -> int:\n",
    "    hasil = angka**2\n",
    "    return hasil\n",
    "\n",
    "y= pangkat(12)\n",
    "y"
   ]
  }
 ],
 "metadata": {
  "kernelspec": {
   "display_name": "Python 3",
   "language": "python",
   "name": "python3"
  },
  "language_info": {
   "codemirror_mode": {
    "name": "ipython",
    "version": 3
   },
   "file_extension": ".py",
   "mimetype": "text/x-python",
   "name": "python",
   "nbconvert_exporter": "python",
   "pygments_lexer": "ipython3",
   "version": "3.13.1"
  }
 },
 "nbformat": 4,
 "nbformat_minor": 5
}
