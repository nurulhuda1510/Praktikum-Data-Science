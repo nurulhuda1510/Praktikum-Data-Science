{
 "cells": [
  {
   "attachments": {},
   "cell_type": "markdown",
   "id": "9aa8e9f2-4c7e-498e-92c4-c5a6c5b07d8e",
   "metadata": {},
   "source": [
    "# Class"
   ]
  },
  {
   "cell_type": "markdown",
   "id": "fefbc9b1-a062-44e2-ab61-b5334c3e9e2f",
   "metadata": {},
   "source": [
    "Dalam Python, class adalah cetak biru (blueprint) yang mendefinisikan bagaimana membuat sebuah objek. Kelas dapat memiliki Variabel (atribut) untuk menyimpan data dan fungsi (metode) untuk mengoperasikan  data tersebut "
   ]
  },
  {
   "cell_type": "code",
   "execution_count": 3,
   "id": "8add7401-c698-43c1-895b-b0ec3b2fa28f",
   "metadata": {},
   "outputs": [],
   "source": [
    "#class kosong \n",
    "class mahasiswa() :\n",
    "    pass\n",
    "mahasiswa1 = mahasiswa()\n",
    "mahasiswa2 = mahasiswa()"
   ]
  },
  {
   "cell_type": "code",
   "execution_count": 4,
   "id": "f9e5123a-7d06-47d0-bbbb-6b1ca10dfc5e",
   "metadata": {},
   "outputs": [
    {
     "name": "stdout",
     "output_type": "stream",
     "text": [
      "<__main__.mahasiswa object at 0x0000011AD13E7B60>\n"
     ]
    }
   ],
   "source": [
    "print(mahasiswa1)"
   ]
  },
  {
   "cell_type": "code",
   "execution_count": 5,
   "id": "47baee34-d341-43a7-bcb5-ce74cb8f2594",
   "metadata": {},
   "outputs": [
    {
     "name": "stdout",
     "output_type": "stream",
     "text": [
      "<__main__.mahasiswa object at 0x0000011AD13B9D10>\n"
     ]
    }
   ],
   "source": [
    "print(mahasiswa2)"
   ]
  },
  {
   "cell_type": "markdown",
   "id": "1da6cd14-bf87-432d-a494-056e8f06b733",
   "metadata": {},
   "source": [
    "Dari kode sebelumnya, `class mahasiswa()` merupakan class kosong. Lalu kemudian dibuat dua objek dari kelas tersebut yaitu `mahasiswa1` dan `mahasiswa2`. \n",
    "\n",
    "Didalam class kita dapat menambahkan atribut "
   ]
  },
  {
   "cell_type": "code",
   "execution_count": 6,
   "id": "c66aa5af-3531-4839-9262-a437af58b1a0",
   "metadata": {},
   "outputs": [
    {
     "name": "stdout",
     "output_type": "stream",
     "text": [
      "Nama: nama\n",
      "NIM: nim\n",
      "Nama: Lutfi\n",
      "NIM: 211402014\n"
     ]
    }
   ],
   "source": [
    "class mahasiswa():\n",
    "    nama = 'nama' #scr default variabel nama akan diisi nama.\n",
    "    nim = 'nim' #scr default variabel nim akan diisi nim.\n",
    "\n",
    "mahasiswa1 = mahasiswa()\n",
    "mahasiswa1.nama\n",
    "mahasiswa1.nim \n",
    "\n",
    "mahasiswa2 = mahasiswa()\n",
    "mahasiswa2.nama = 'Lutfi'\n",
    "mahasiswa2.nim = '211402014'\n",
    "\n",
    "print(\"Nama:\", mahasiswa1.nama)\n",
    "print(\"NIM:\", mahasiswa1.nim)\n",
    "\n",
    "print(\"Nama:\", mahasiswa2.nama)\n",
    "print(\"NIM:\", mahasiswa2.nim)"
   ]
  },
  {
   "cell_type": "markdown",
   "id": "39387f0f-6258-4b7d-813b-806000950706",
   "metadata": {},
   "source": [
    "Secara logika, mahasiswa dapat melakukan beberapa aktivitas. Dalam program ini dapat diartikan, suatu class dapat berisi bebera method"
   ]
  },
  {
   "cell_type": "code",
   "execution_count": 7,
   "id": "14182566-5906-4c3d-9e29-494dbe0c3239",
   "metadata": {},
   "outputs": [
    {
     "name": "stdout",
     "output_type": "stream",
     "text": [
      "Mahasiswa sedang belajar\n",
      "Mahasiswa membayar UKT\n"
     ]
    }
   ],
   "source": [
    "class mahasiswa():\n",
    "    nama = 'nama' #scr default variabel nama akan diisi nama.\n",
    "\n",
    "    def belajar(self):\n",
    "        print('Mahasiswa sedang belajar')\n",
    "\n",
    "    def pay_ukt(self):\n",
    "        print('Mahasiswa membayar UKT')\n",
    "\n",
    "m1 = mahasiswa()\n",
    "m1.nama = 'nurul'\n",
    "\n",
    "m1.belajar()\n",
    "m1.pay_ukt()"
   ]
  },
  {
   "cell_type": "markdown",
   "id": "ed2a8d1c-940c-4c39-9ecc-fd1f366709eb",
   "metadata": {},
   "source": [
    "Parameter self dalam method-method pada kode di atas adalah sesuatu yang merujuk \n",
    "pada atribut yang dimiliki setiap objek. karena setiap kelas akan menghasilkan banyak objek dengan atribut yang sama namun dengan nilai yang berbeda-beda untuk itu self berfungsi sebagai sesuatu yang merujuk pada atribut yang dimiliki objek\n",
    "\n",
    "misalnya objek `m1` memiliki atribut nama dan NIM. Pada method belajar() dan `pay_ukt()` diberikan parameter self yang merujuk atribut objek. Karena nantinya objek dari kelas mahasiswa bukan hanya `m1`"
   ]
  },
  {
   "cell_type": "code",
   "execution_count": 9,
   "id": "7ab8d3b0",
   "metadata": {},
   "outputs": [
    {
     "name": "stdout",
     "output_type": "stream",
     "text": [
      "Mahasiswa dengan nama nurul dan nim 211402017 berada dikelas B\n",
      "Mahasiswa dengan nama albert dengan nim 211402197 tidak hadir karena sakit\n"
     ]
    }
   ],
   "source": [
    "class mahasiswa():\n",
    "    nama = 'nama'\n",
    "    nim = 'nim'\n",
    "    kelas = 'kelas'\n",
    "\n",
    "    def data(self):\n",
    "        print('Mahasiswa dengan nama', self.nama, 'dan nim', self.nim, 'berada dikelas', self.kelas)\n",
    "\n",
    "    def Absen(self, kondisi):\n",
    "        print('Mahasiswa dengan nama', self.nama, 'dengan nim', self.nim, 'tidak hadir', kondisi)\n",
    "\n",
    "m1 = mahasiswa()\n",
    "m1.nama = 'nurul'\n",
    "m1.nim = '211402017'\n",
    "m1.kelas = 'B'\n",
    "\n",
    "m2 = mahasiswa()\n",
    "m2.nama = 'albert'\n",
    "m2.nim = '211402197'\n",
    "m2.kelas = 'A'\n",
    "\n",
    "m1.data()\n",
    "m2.Absen('karena sakit')"
   ]
  },
  {
   "cell_type": "markdown",
   "id": "13efd1f7-8e05-41f7-8f8e-47a97442a4d2",
   "metadata": {},
   "source": [
    "# Init"
   ]
  },
  {
   "cell_type": "markdown",
   "id": "6618d9a3-647e-4c45-8c0a-6fff281d0517",
   "metadata": {},
   "source": [
    "`__init__` dalam Python adalah sebuah metode khusus yang digunakan untuk menginisialisasi objek yang baru dibuat dari sebuah kelas(class). Metode ini sering disebut sebagai konstruktor karena ia digunakan untuk melakukan tugas-tugas inisialisasi saat objek dibuat "
   ]
  },
  {
   "cell_type": "markdown",
   "id": "64acde9f-02d7-4943-8796-3a29089ce092",
   "metadata": {},
   "source": [
    "Dengan `__init__` kita dapat mempersingkat kode dalam menuliskan atribut dalam kelas"
   ]
  },
  {
   "cell_type": "code",
   "execution_count": 10,
   "id": "5b073b01-da70-417a-8204-ed1363b51a86",
   "metadata": {},
   "outputs": [
    {
     "name": "stdout",
     "output_type": "stream",
     "text": [
      "andri 211402018\n",
      "andri sedang belajar\n",
      "andri dengan nim 211402018 membayar UKT\n"
     ]
    }
   ],
   "source": [
    "class mahasiswa():\n",
    "    def __init__ (self, input_nama, input_nim):\n",
    "        #inisiasi atribut nama dan nim\n",
    "        self.nama = input_nama\n",
    "        self.nim = input_nim \n",
    "\n",
    "    def belajar(self):\n",
    "        print(self.nama, 'sedang belajar')\n",
    "\n",
    "    def pay_ukt(self):\n",
    "        print(self.nama, 'dengan nim', self.nim, 'membayar UKT')\n",
    "\n",
    "m1 = mahasiswa('andri', '211402018')\n",
    "print(m1.nama, m1.nim)\n",
    "\n",
    "m1.belajar()\n",
    "m1.pay_ukt()"
   ]
  },
  {
   "cell_type": "code",
   "execution_count": 11,
   "id": "cf5eee0c-93e9-4de9-9bd1-43437e519a5a",
   "metadata": {},
   "outputs": [
    {
     "name": "stdout",
     "output_type": "stream",
     "text": [
      "Nurul Huda 211402017\n",
      "Bill 211302019\n"
     ]
    }
   ],
   "source": [
    "class Mahasiswa:\n",
    "    def __init__(self, nama, nim):\n",
    "        #inisiasi atribut nama dan nim\n",
    "        self.nama = nama\n",
    "        self.nim = nim\n",
    "\n",
    "mahasiswa1 = Mahasiswa(\"Nurul Huda\", \"211402017\")\n",
    "mahasiswa2 = Mahasiswa(\"Bill\", \"211302019\")\n",
    "\n",
    "print(mahasiswa1.nama, mahasiswa1.nim)\n",
    "print(mahasiswa2.nama, mahasiswa2.nim)"
   ]
  }
 ],
 "metadata": {
  "kernelspec": {
   "display_name": "Python 3",
   "language": "python",
   "name": "python3"
  },
  "language_info": {
   "codemirror_mode": {
    "name": "ipython",
    "version": 3
   },
   "file_extension": ".py",
   "mimetype": "text/x-python",
   "name": "python",
   "nbconvert_exporter": "python",
   "pygments_lexer": "ipython3",
   "version": "3.13.1"
  }
 },
 "nbformat": 4,
 "nbformat_minor": 5
}
