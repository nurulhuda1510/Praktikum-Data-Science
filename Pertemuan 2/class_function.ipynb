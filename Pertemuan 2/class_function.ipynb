{
 "cells": [
  {
   "cell_type": "markdown",
   "metadata": {},
   "source": [
    "Berikut ini adalah sebuah kode yang berisi class dan fungsi untuk menghitung statistika sederhana "
   ]
  },
  {
   "cell_type": "code",
   "execution_count": 1,
   "metadata": {},
   "outputs": [],
   "source": [
    "class DataScienceAnalysis():\n",
    "          def __init__(self, list_data):\n",
    "                    self.data = list_data\n",
    "\n",
    "          def mean(self):\n",
    "                    return sum(self.data)/len(self.data)\n",
    "\n",
    "          def median (self):\n",
    "                    sorted_data = sorted(self.data)\n",
    "                    n = len(sorted_data)\n",
    "                    if n % 2 == 0 :\n",
    "                              return (sorted_data[n//2-1] + sorted_data[n//2])/2\n",
    "                    else :\n",
    "                              return sorted_data[n//2]\n",
    "                              \n"
   ]
  },
  {
   "cell_type": "code",
   "execution_count": 2,
   "metadata": {},
   "outputs": [
    {
     "name": "stdout",
     "output_type": "stream",
     "text": [
      "Data: [10, 20, 30, 40, 50, 60, 70, 80, 90, 100]\n",
      "Mean: 55.0\n",
      "Median: 55.0\n"
     ]
    }
   ],
   "source": [
    "def main ():\n",
    "          data = [10, 20, 30, 40, 50,60,70,80, 90, 100]\n",
    "\n",
    "          analysis = DataScienceAnalysis(data)\n",
    "\n",
    "          print (\"Data:\", data)\n",
    "          print (\"Mean:\", analysis.mean())\n",
    "          print (\"Median:\", analysis.median())\n",
    "\n",
    "if __name__ == \"__main__\":\n",
    "      main()"
   ]
  },
  {
   "cell_type": "code",
   "execution_count": null,
   "metadata": {},
   "outputs": [],
   "source": [
    "def main ():\n",
    "          data = [10, 20, 30, 40, 50,60,70,80, 90, 100]\n",
    "\n",
    "          analysis = DataScienceAnalysis(data)\n",
    "\n",
    "          print (\"Data:\", data)\n",
    "          print (\"Mean:\", analysis.mean())\n",
    "          print (\"Median:\", analysis.median())\n",
    "\n",
    "if __name__ == \"__main__\":\n",
    "      main()"
   ]
  },
  {
   "cell_type": "markdown",
   "metadata": {},
   "source": [
    "# Penjelasan"
   ]
  },
  {
   "cell_type": "code",
   "execution_count": null,
   "metadata": {},
   "outputs": [],
   "source": [
    "class DataScienceAnalysis():\n",
    "          def __init__(self, list_data):\n",
    "                    self.data = list_data"
   ]
  },
  {
   "cell_type": "markdown",
   "metadata": {},
   "source": [
    "Artinya membuat sebuah class DataScienceAnalysis yang didalamnya terdapat method `__init__` yang akan dijalankan pertama kali ketika objek dari class dibuat. dalam method tersebut ada dua parameter yaitu `self` yang merujuk pada atribut, dan `list_data` yang merujuk pada nilai yang akan didapatkan dari objek "
   ]
  },
  {
   "cell_type": "code",
   "execution_count": null,
   "metadata": {},
   "outputs": [],
   "source": [
    "def mean(self):\n",
    "          return sum(self.data)/len(self.data)\n",
    "\n",
    "def median (self):\n",
    "          sorted_data = sorted(self.data)\n",
    "          n = len(sorted_data)\n",
    "          if n % 2 == 0 :\n",
    "                    return (sorted_data[n//2-1] + sorted_data[n//2])/2\n",
    "          else :\n",
    "                    return sorted_data[n//2]"
   ]
  },
  {
   "cell_type": "markdown",
   "metadata": {},
   "source": [
    "Kedua method diatas adalah method untuk melakukan perhitungan nilai mean dan median pada nilai dari objek data"
   ]
  },
  {
   "cell_type": "code",
   "execution_count": null,
   "metadata": {},
   "outputs": [],
   "source": [
    "def main ():\n",
    "          data = [10, 20, 30, 40, 50,60,70,80, 90, 100]\n",
    "\n",
    "          analysis = DataScienceAnalysis(data)\n",
    "\n",
    "          print (\"Data:\", data)\n",
    "          print (\"Mean:\", analysis.mean())\n",
    "          print (\"Median:\", analysis.median())"
   ]
  },
  {
   "cell_type": "markdown",
   "metadata": {},
   "source": [
    "Merupakan fungsi utama untuk menjalankan program. Didalamnya terhadap list data. Kemudian objek `analysis` dibuat dari class DataScienceAnalysis yang berisi nilai dari variabel list `data`. Sekarang Class DataScienceAnalysis memiliki 1 objek yaitu `analysis` Objek analisis membawa atribut data yang diload dalam `__init__`. Atribut yang sudah berisi data tersebut akan dibawa untuk dihitung nilai mean dan mediannya.\n",
    "\n",
    "Selanjutnya pada kode dibawah ini : "
   ]
  },
  {
   "cell_type": "code",
   "execution_count": null,
   "metadata": {},
   "outputs": [],
   "source": [
    "print (\"Data:\", data)\n",
    "print (\"Mean:\", analysis.mean())\n",
    "print (\"Median:\", analysis.median())"
   ]
  },
  {
   "cell_type": "markdown",
   "metadata": {},
   "source": [
    "Dilakukan percetakan nilai pada variabel data. Lalu objek analisis dihubungkan dengan method mean dan median. Hasilnya lalu dicetak\n",
    "\n",
    "`if __name__ == \"__main__\":`, kita sebenarnya memeriksa apakah skrip sedang dijalankan secara langsung atau diimpor sebagai modul. jika sedang dijalankan secara langsung maka blok kode didalam if akan dieksekusi. "
   ]
  }
 ],
 "metadata": {
  "kernelspec": {
   "display_name": "Python 3",
   "language": "python",
   "name": "python3"
  },
  "language_info": {
   "codemirror_mode": {
    "name": "ipython",
    "version": 3
   },
   "file_extension": ".py",
   "mimetype": "text/x-python",
   "name": "python",
   "nbconvert_exporter": "python",
   "pygments_lexer": "ipython3",
   "version": "3.13.1"
  }
 },
 "nbformat": 4,
 "nbformat_minor": 2
}
