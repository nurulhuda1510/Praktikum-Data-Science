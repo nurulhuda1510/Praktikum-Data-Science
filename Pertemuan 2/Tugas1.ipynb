{
 "cells": [
  {
   "cell_type": "markdown",
   "metadata": {},
   "source": [
    "# Tugas 1"
   ]
  },
  {
   "cell_type": "markdown",
   "metadata": {},
   "source": [
    "Buatlah sebuah kelas yang berisi beberapa atribut, function init() serta beberapa function lainnya(minimal 2 function) sebagai bagian operasi dari data. Dengan ketentuan:\n",
    "\n",
    "1. Tidak boleh sama dengan materi\n",
    "2. Jelaskan program apa yang sedang dibuat.\n",
    "Mis. Berikut ini adalah implementasi class dan function kelas Python untuk melakukan analisis sederhana terhadap data pengguna. Data pengguna akan disimpan dalam sebuah dictionary yang berisi informasi seperti nama, usia, kota, dan pekerjaan.\n",
    "3. Tunjukkan output\n",
    "4. Setiap potongan kode(nama class, atribut, function) dan output yang dihasilkan harus diberi penjelasan."
   ]
  }
 ],
 "metadata": {
  "language_info": {
   "name": "python"
  }
 },
 "nbformat": 4,
 "nbformat_minor": 2
}
