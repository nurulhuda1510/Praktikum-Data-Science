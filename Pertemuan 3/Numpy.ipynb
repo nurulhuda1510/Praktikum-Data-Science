{
 "cells": [
  {
   "cell_type": "markdown",
   "id": "e33270b7-6792-4a87-a8ab-be06451369db",
   "metadata": {},
   "source": [
    "# Numpy"
   ]
  },
  {
   "cell_type": "markdown",
   "id": "baeed008-2917-4bc7-86d6-65e2851edb94",
   "metadata": {},
   "source": [
    "Numpy adalah library yang digunakan untuk komputasi matematika saintifik"
   ]
  },
  {
   "cell_type": "code",
   "execution_count": null,
   "id": "e1946720",
   "metadata": {},
   "outputs": [],
   "source": [
    "# pip install numpy"
   ]
  },
  {
   "cell_type": "code",
   "execution_count": 2,
   "id": "e8d2881e-d314-4dba-b83a-0735462f855a",
   "metadata": {},
   "outputs": [],
   "source": [
    "import numpy as np"
   ]
  },
  {
   "cell_type": "code",
   "execution_count": 7,
   "id": "f7b6c426-2c84-49ee-bf67-6ffc74adc7ac",
   "metadata": {},
   "outputs": [
    {
     "name": "stdout",
     "output_type": "stream",
     "text": [
      "[1 2 3 4 5]\n"
     ]
    }
   ],
   "source": [
    "a = np.array([1,2,3,4,5]) # array dalam numpy\n",
    "print(a)"
   ]
  },
  {
   "cell_type": "code",
   "execution_count": 4,
   "id": "69c699ee-1b5a-4c11-96c2-88b5578dd2dd",
   "metadata": {},
   "outputs": [
    {
     "name": "stdout",
     "output_type": "stream",
     "text": [
      "[1, 2, 3, 4, 5]\n"
     ]
    }
   ],
   "source": [
    "b = [1,2,3,4,5] # list dalam python\n",
    "print(b)"
   ]
  },
  {
   "cell_type": "code",
   "execution_count": 5,
   "id": "84700592-0dc5-4063-99d4-130a2c98f7f1",
   "metadata": {},
   "outputs": [
    {
     "name": "stdout",
     "output_type": "stream",
     "text": [
      "[2 3 4 5 6]\n"
     ]
    }
   ],
   "source": [
    "a = a+1\n",
    "print(a)"
   ]
  },
  {
   "cell_type": "code",
   "execution_count": 8,
   "id": "d6ee564f",
   "metadata": {},
   "outputs": [
    {
     "name": "stdout",
     "output_type": "stream",
     "text": [
      "[0 1 2 3 4]\n"
     ]
    }
   ],
   "source": [
    "a = a-1\n",
    "print(a)"
   ]
  },
  {
   "cell_type": "code",
   "execution_count": 6,
   "id": "1aa259eb-d740-4bc4-b093-6a69ac7e286a",
   "metadata": {},
   "outputs": [
    {
     "ename": "TypeError",
     "evalue": "can only concatenate list (not \"int\") to list",
     "output_type": "error",
     "traceback": [
      "\u001b[1;31m---------------------------------------------------------------------------\u001b[0m",
      "\u001b[1;31mTypeError\u001b[0m                                 Traceback (most recent call last)",
      "Cell \u001b[1;32mIn[6], line 1\u001b[0m\n\u001b[1;32m----> 1\u001b[0m b \u001b[38;5;241m=\u001b[39m b\u001b[38;5;241m+\u001b[39m\u001b[38;5;241m1\u001b[39m \n\u001b[0;32m      2\u001b[0m \u001b[38;5;28mprint\u001b[39m(b)\n",
      "\u001b[1;31mTypeError\u001b[0m: can only concatenate list (not \"int\") to list"
     ]
    }
   ],
   "source": [
    "b = b+1 \n",
    "print(b)"
   ]
  },
  {
   "cell_type": "code",
   "execution_count": 9,
   "id": "97176658-e5b4-44f8-9704-026d5646eaa4",
   "metadata": {},
   "outputs": [
    {
     "name": "stdout",
     "output_type": "stream",
     "text": [
      "[1.  1.5 2.  3.6 5. ]\n"
     ]
    }
   ],
   "source": [
    "# Vector numpy dengan angka yang berkoma \n",
    "c = np.array([1, 1.5, 2, 3.6, 5]) \n",
    "print(c)"
   ]
  },
  {
   "cell_type": "code",
   "execution_count": 10,
   "id": "b5b5b450",
   "metadata": {},
   "outputs": [
    {
     "name": "stdout",
     "output_type": "stream",
     "text": [
      "[1, 1.5, 2, 3.6, 5]\n"
     ]
    }
   ],
   "source": [
    "c1 = [1, 1.5, 2, 3.6, 5]\n",
    "print(c1)"
   ]
  },
  {
   "cell_type": "code",
   "execution_count": 11,
   "id": "0ec35fa4-ee4f-49cf-a902-fe577ab7dffb",
   "metadata": {},
   "outputs": [
    {
     "name": "stdout",
     "output_type": "stream",
     "text": [
      "[1 2 3 4 5 6 7 8 9]\n"
     ]
    }
   ],
   "source": [
    "# vector dengan range\n",
    "d = np.arange(1, 10, 1)\n",
    "print(d)"
   ]
  },
  {
   "cell_type": "code",
   "execution_count": 12,
   "id": "ee968811",
   "metadata": {},
   "outputs": [
    {
     "name": "stdout",
     "output_type": "stream",
     "text": [
      "[3 5 7 9]\n"
     ]
    }
   ],
   "source": [
    "# vector dengan range\n",
    "d = np.arange(3, 10, 2)\n",
    "print(d)"
   ]
  },
  {
   "cell_type": "code",
   "execution_count": 13,
   "id": "875fb290-133b-4170-80cb-fe8f11abc9bf",
   "metadata": {},
   "outputs": [
    {
     "name": "stdout",
     "output_type": "stream",
     "text": [
      "[ 1. 10.]\n"
     ]
    }
   ],
   "source": [
    "# vector dengan linear space\n",
    "e = np.linspace(1, 10, 2)\n",
    "print(e)"
   ]
  },
  {
   "cell_type": "code",
   "execution_count": 15,
   "id": "2f43858d",
   "metadata": {},
   "outputs": [
    {
     "name": "stdout",
     "output_type": "stream",
     "text": [
      "[ 1.  4.  7. 10.]\n"
     ]
    }
   ],
   "source": [
    "# vector dengan linear space\n",
    "e = np.linspace(1, 10, 4)\n",
    "print(e)"
   ]
  },
  {
   "cell_type": "code",
   "execution_count": 16,
   "id": "cb5babee-4033-4e02-b214-23b290594803",
   "metadata": {},
   "outputs": [
    {
     "name": "stdout",
     "output_type": "stream",
     "text": [
      "[[1 2 3]\n",
      " [4 5 6]]\n"
     ]
    }
   ],
   "source": [
    "# array multi dimensi -> matriks\n",
    "f = np.array([(1,2,3), (4,5,6)]) # array dalam numpy\n",
    "print(f)"
   ]
  },
  {
   "cell_type": "code",
   "execution_count": 17,
   "id": "f690dc10-10f5-40e1-9a77-d07f90aeea7d",
   "metadata": {},
   "outputs": [
    {
     "name": "stdout",
     "output_type": "stream",
     "text": [
      "[[2 3 4]\n",
      " [5 6 7]]\n"
     ]
    }
   ],
   "source": [
    "print(f+1)"
   ]
  },
  {
   "cell_type": "code",
   "execution_count": 18,
   "id": "260706dc",
   "metadata": {},
   "outputs": [
    {
     "name": "stdout",
     "output_type": "stream",
     "text": [
      "[[0 1 2]\n",
      " [3 4 5]]\n"
     ]
    }
   ],
   "source": [
    "print(f-1)"
   ]
  },
  {
   "cell_type": "code",
   "execution_count": 19,
   "id": "29f64d13",
   "metadata": {},
   "outputs": [
    {
     "name": "stdout",
     "output_type": "stream",
     "text": [
      "[[ 2  4  6]\n",
      " [ 8 10 12]]\n"
     ]
    }
   ],
   "source": [
    "print(f*2)"
   ]
  },
  {
   "cell_type": "code",
   "execution_count": 20,
   "id": "16006325-c5bc-4dfc-aaa9-c5b1878198e3",
   "metadata": {},
   "outputs": [
    {
     "name": "stdout",
     "output_type": "stream",
     "text": [
      "[0. 0. 0. 0. 0.]\n"
     ]
    }
   ],
   "source": [
    "a = np.zeros(5)\n",
    "print(a)"
   ]
  },
  {
   "cell_type": "code",
   "execution_count": 22,
   "id": "f9f549a8-4c88-473b-a024-afcc3031b006",
   "metadata": {},
   "outputs": [
    {
     "name": "stdout",
     "output_type": "stream",
     "text": [
      "[[0. 0. 0. 0.]\n",
      " [0. 0. 0. 0.]\n",
      " [0. 0. 0. 0.]\n",
      " [0. 0. 0. 0.]\n",
      " [0. 0. 0. 0.]]\n"
     ]
    }
   ],
   "source": [
    "a = np.zeros((5,4))\n",
    "print(a)"
   ]
  },
  {
   "cell_type": "code",
   "execution_count": 23,
   "id": "5b7545a3-131d-4012-82d5-53a8abdb0c2e",
   "metadata": {},
   "outputs": [
    {
     "name": "stdout",
     "output_type": "stream",
     "text": [
      "[1. 1. 1. 1. 1.]\n"
     ]
    }
   ],
   "source": [
    "a = np.ones(5)\n",
    "print(a)"
   ]
  },
  {
   "cell_type": "code",
   "execution_count": 24,
   "id": "cd229180-2c96-437a-9257-d2b08b655a2e",
   "metadata": {},
   "outputs": [
    {
     "name": "stdout",
     "output_type": "stream",
     "text": [
      "[[1. 1. 1. 1. 1.]\n",
      " [1. 1. 1. 1. 1.]\n",
      " [1. 1. 1. 1. 1.]\n",
      " [1. 1. 1. 1. 1.]\n",
      " [1. 1. 1. 1. 1.]]\n"
     ]
    }
   ],
   "source": [
    "a = np.ones((5,5))\n",
    "print(a)"
   ]
  },
  {
   "cell_type": "code",
   "execution_count": 25,
   "id": "ed344c9c-9652-4db7-bd1e-bc49edfc97cc",
   "metadata": {},
   "outputs": [
    {
     "name": "stdout",
     "output_type": "stream",
     "text": [
      "[[1. 0. 0. 0. 0.]\n",
      " [0. 1. 0. 0. 0.]\n",
      " [0. 0. 1. 0. 0.]\n",
      " [0. 0. 0. 1. 0.]\n",
      " [0. 0. 0. 0. 1.]]\n"
     ]
    }
   ],
   "source": [
    "# matriks Identitas cara 1\n",
    "a= np.identity(5)\n",
    "print(a)"
   ]
  },
  {
   "cell_type": "code",
   "execution_count": 26,
   "id": "6865edd8-2d5f-435d-bb22-ef0a0d995bc6",
   "metadata": {},
   "outputs": [
    {
     "name": "stdout",
     "output_type": "stream",
     "text": [
      "[[1. 0. 0. 0. 0.]\n",
      " [0. 1. 0. 0. 0.]\n",
      " [0. 0. 1. 0. 0.]\n",
      " [0. 0. 0. 1. 0.]\n",
      " [0. 0. 0. 0. 1.]]\n"
     ]
    }
   ],
   "source": [
    "# matriks Identitas cara 2\n",
    "a= np.eye(5)\n",
    "print(a)"
   ]
  },
  {
   "cell_type": "code",
   "execution_count": 27,
   "id": "a1c8c747-c3a6-467f-b994-9d6d3a7aa3aa",
   "metadata": {},
   "outputs": [],
   "source": [
    "# Operasi Aritmatika dalam numpy\n",
    "\n",
    "# list dalam python\n",
    "a = [1,2,3,4,5]\n",
    "b = [6,7,8,9,10]\n",
    "\n",
    "#array dalam numpy\n",
    "anp= np.array([1,2,3,4,5])\n",
    "bnp= np.array([6,7,8,9,10])"
   ]
  },
  {
   "cell_type": "code",
   "execution_count": 28,
   "id": "13217327-36aa-4cdb-9ca1-5dd46ced1364",
   "metadata": {},
   "outputs": [
    {
     "name": "stdout",
     "output_type": "stream",
     "text": [
      "[1, 2, 3, 4, 5, 6, 7, 8, 9, 10]\n"
     ]
    }
   ],
   "source": [
    "# Penjumlahan\n",
    "hasil = a + b\n",
    "print(hasil)"
   ]
  },
  {
   "cell_type": "code",
   "execution_count": 29,
   "id": "7e58787a-c7e5-4664-80ad-1e36972793ed",
   "metadata": {},
   "outputs": [
    {
     "name": "stdout",
     "output_type": "stream",
     "text": [
      "[ 7  9 11 13 15]\n"
     ]
    }
   ],
   "source": [
    "hasil = anp + bnp\n",
    "print(hasil)"
   ]
  },
  {
   "cell_type": "code",
   "execution_count": 30,
   "id": "67f66a52-4e08-4ca9-bf60-31716dc8428f",
   "metadata": {},
   "outputs": [
    {
     "name": "stdout",
     "output_type": "stream",
     "text": [
      "[-5 -5 -5 -5 -5]\n"
     ]
    }
   ],
   "source": [
    "# Pengurangan\n",
    "hasil = anp - bnp\n",
    "print(hasil)"
   ]
  },
  {
   "cell_type": "code",
   "execution_count": 31,
   "id": "18f37ea8-70bd-4716-81d3-74868f839227",
   "metadata": {},
   "outputs": [
    {
     "name": "stdout",
     "output_type": "stream",
     "text": [
      "[ 6 14 24 36 50]\n"
     ]
    }
   ],
   "source": [
    "# perkalian\n",
    "hasil = anp * bnp\n",
    "print(hasil)"
   ]
  },
  {
   "cell_type": "code",
   "execution_count": 32,
   "id": "53e3b399-3bca-454d-b770-b8452bd0781a",
   "metadata": {},
   "outputs": [
    {
     "name": "stdout",
     "output_type": "stream",
     "text": [
      "[0.16666667 0.28571429 0.375      0.44444444 0.5       ]\n"
     ]
    }
   ],
   "source": [
    "# pembagian\n",
    "hasil = anp / bnp\n",
    "print(hasil)"
   ]
  },
  {
   "cell_type": "code",
   "execution_count": 33,
   "id": "5d6e5b3d-04d9-4f7b-b36d-2983849c9d89",
   "metadata": {},
   "outputs": [
    {
     "name": "stdout",
     "output_type": "stream",
     "text": [
      "[ 1  4  9 16 25]\n",
      "[ 36  49  64  81 100]\n"
     ]
    }
   ],
   "source": [
    "# perpangkatan \n",
    "hasilanp = anp ** 2\n",
    "hasilbnp = bnp ** 2\n",
    "print(hasilanp)\n",
    "print(hasilbnp)"
   ]
  },
  {
   "cell_type": "code",
   "execution_count": 35,
   "id": "dc8c0067-35f2-4485-8639-a6bda4e801c9",
   "metadata": {},
   "outputs": [],
   "source": [
    "# operasi aritmatika dalam array multidimensi\n",
    "c = np.array([(1,2,3), (4,5,6)])\n",
    "d = np.array([(-1,-2,-3), (7,8,9)])"
   ]
  },
  {
   "cell_type": "code",
   "execution_count": 36,
   "id": "e79698a5-e1df-431f-87d4-d411a77435b0",
   "metadata": {},
   "outputs": [
    {
     "name": "stdout",
     "output_type": "stream",
     "text": [
      "[[ 0  0  0]\n",
      " [11 13 15]]\n"
     ]
    }
   ],
   "source": [
    "print(c + d)"
   ]
  },
  {
   "cell_type": "code",
   "execution_count": 38,
   "id": "d44cffe5-811d-4228-b00f-7a313b7f7132",
   "metadata": {},
   "outputs": [
    {
     "name": "stdout",
     "output_type": "stream",
     "text": [
      "[[ 2  4  6]\n",
      " [-3 -3 -3]]\n"
     ]
    }
   ],
   "source": [
    "print(c - d)"
   ]
  },
  {
   "cell_type": "code",
   "execution_count": 37,
   "id": "e919ff02-e57e-41e9-8558-8aa98ad472dc",
   "metadata": {},
   "outputs": [
    {
     "name": "stdout",
     "output_type": "stream",
     "text": [
      "[[-1 -4 -9]\n",
      " [28 40 54]]\n"
     ]
    }
   ],
   "source": [
    "print(c * d)"
   ]
  },
  {
   "cell_type": "code",
   "execution_count": 39,
   "id": "a3562f1c-0e85-418c-a13f-c79a5390d9eb",
   "metadata": {},
   "outputs": [
    {
     "name": "stdout",
     "output_type": "stream",
     "text": [
      "[[-1.         -1.         -1.        ]\n",
      " [ 0.57142857  0.625       0.66666667]]\n"
     ]
    }
   ],
   "source": [
    "print(c / d)"
   ]
  },
  {
   "cell_type": "code",
   "execution_count": 40,
   "id": "23248f59-125e-4ea5-ab03-5ac9684503f5",
   "metadata": {},
   "outputs": [
    {
     "name": "stdout",
     "output_type": "stream",
     "text": [
      "[ 0  1  4  9 16 25 36 49 64 81]\n"
     ]
    }
   ],
   "source": [
    "# indexing , slicing, iteration\n",
    "a = np.arange(10)**2\n",
    "print (a)"
   ]
  },
  {
   "cell_type": "code",
   "execution_count": 42,
   "id": "4448d552-1005-41d4-a9da-f32a885cd379",
   "metadata": {},
   "outputs": [
    {
     "name": "stdout",
     "output_type": "stream",
     "text": [
      "Cetak elemen pertama 25\n"
     ]
    }
   ],
   "source": [
    "# indexing = mengambil elemen tertentu dalam vektor\n",
    "print(\"Cetak elemen pertama\", a[5])"
   ]
  },
  {
   "cell_type": "code",
   "execution_count": 47,
   "id": "67affeb7-1004-4408-9ce5-c275ea9d5765",
   "metadata": {},
   "outputs": [
    {
     "name": "stdout",
     "output_type": "stream",
     "text": [
      "Cetak elemen pertama sampai kelima  [ 0  1  4  9 16]\n"
     ]
    }
   ],
   "source": [
    "# Slicing : memotong elemen tertentu \n",
    "print (\"Cetak elemen pertama sampai kelima \", a[:5])"
   ]
  },
  {
   "cell_type": "code",
   "execution_count": null,
   "id": "80c7f032-e9f2-472d-ad10-74ccfb428291",
   "metadata": {},
   "outputs": [
    {
     "name": "stdout",
     "output_type": "stream",
     "text": [
      "Cetak elemen kelima sampai terakhir  [16 25 36 49 64 81]\n"
     ]
    }
   ],
   "source": [
    "print(\"Cetak elemen kelima sampai terakhir \", a[4:9])"
   ]
  },
  {
   "cell_type": "code",
   "execution_count": 48,
   "id": "d9e6d08c-c639-4bc1-bbe4-538a7472de52",
   "metadata": {},
   "outputs": [
    {
     "name": "stdout",
     "output_type": "stream",
     "text": [
      "Cetak elemen kedua sampai kelima  [ 1  4  9 16]\n"
     ]
    }
   ],
   "source": [
    "print(\"Cetak elemen kedua sampai kelima \", a[1:5])"
   ]
  },
  {
   "cell_type": "code",
   "execution_count": 49,
   "id": "d743a65e-ce02-4c01-8422-13cdfd1a9318",
   "metadata": {},
   "outputs": [
    {
     "name": "stdout",
     "output_type": "stream",
     "text": [
      "0\n",
      "1\n",
      "4\n",
      "9\n",
      "16\n",
      "25\n",
      "36\n",
      "49\n",
      "64\n",
      "81\n"
     ]
    }
   ],
   "source": [
    "# iteration \n",
    "for i in a :\n",
    "    print(i)"
   ]
  },
  {
   "cell_type": "code",
   "execution_count": 50,
   "id": "7d503dc9-23e4-42e3-9bd4-b3c30b0d573a",
   "metadata": {},
   "outputs": [
    {
     "name": "stdout",
     "output_type": "stream",
     "text": [
      "Matriks a :\n",
      "[[1 2]\n",
      " [3 4]]\n"
     ]
    }
   ],
   "source": [
    "# Perkalian matriks \n",
    "a = np.array([(1,2), (3,4)])\n",
    "print(\"Matriks a :\")\n",
    "print(a)"
   ]
  },
  {
   "cell_type": "code",
   "execution_count": 51,
   "id": "a27a834b-6325-4d75-b7e3-fdb72a713dd0",
   "metadata": {},
   "outputs": [
    {
     "name": "stdout",
     "output_type": "stream",
     "text": [
      "Matriks b :\n",
      "[[1. 1.]\n",
      " [1. 1.]]\n"
     ]
    }
   ],
   "source": [
    "# Perkalian matriks \n",
    "b = np.ones((2,2))\n",
    "print(\"Matriks b :\")\n",
    "print(b)"
   ]
  },
  {
   "cell_type": "code",
   "execution_count": 52,
   "id": "17fc5e0c-1d87-4486-b53e-eda5ac0c346b",
   "metadata": {},
   "outputs": [
    {
     "name": "stdout",
     "output_type": "stream",
     "text": [
      "[[1. 2.]\n",
      " [3. 4.]]\n"
     ]
    }
   ],
   "source": [
    "# operasi element wise\n",
    "print(a*b)"
   ]
  },
  {
   "cell_type": "code",
   "execution_count": 53,
   "id": "63b74475-23d9-406b-9d35-93db37facfce",
   "metadata": {},
   "outputs": [
    {
     "name": "stdout",
     "output_type": "stream",
     "text": [
      "[[3. 3.]\n",
      " [7. 7.]]\n"
     ]
    }
   ],
   "source": [
    "# cara pertama \n",
    "c1 = np.dot(a,b)\n",
    "print (c1)"
   ]
  },
  {
   "cell_type": "code",
   "execution_count": 54,
   "id": "6e92a73a-5219-442b-8d43-090d90006f7a",
   "metadata": {},
   "outputs": [
    {
     "name": "stdout",
     "output_type": "stream",
     "text": [
      "[[3. 3.]\n",
      " [7. 7.]]\n"
     ]
    }
   ],
   "source": [
    "c2 = a.dot(b)\n",
    "print (c2)"
   ]
  },
  {
   "cell_type": "code",
   "execution_count": null,
   "id": "b92c6690-b680-4662-af42-0221331beb2f",
   "metadata": {},
   "outputs": [],
   "source": [
    "# manipulation matriks\n",
    "# transpose\n",
    "# Vector baris\n",
    "# Reshape"
   ]
  },
  {
   "cell_type": "code",
   "execution_count": 55,
   "id": "f452ea96-a258-4570-8a35-85d9ab8b81dd",
   "metadata": {},
   "outputs": [],
   "source": [
    "a = np.array([(1,2,3), (4,5,6)])"
   ]
  },
  {
   "cell_type": "code",
   "execution_count": null,
   "id": "418d7fe2",
   "metadata": {},
   "outputs": [],
   "source": []
  },
  {
   "cell_type": "code",
   "execution_count": 56,
   "id": "8506b71f-1702-4054-b5e0-72a8451cf9fe",
   "metadata": {},
   "outputs": [
    {
     "name": "stdout",
     "output_type": "stream",
     "text": [
      "Matriks a ukurannya (2, 3)\n",
      "[[1 2 3]\n",
      " [4 5 6]]\n"
     ]
    }
   ],
   "source": [
    "print(\"Matriks a ukurannya\", a.shape)\n",
    "print(a)"
   ]
  },
  {
   "cell_type": "code",
   "execution_count": 57,
   "id": "c6101e3d-ae9b-4262-beef-691ee1f0b7c1",
   "metadata": {},
   "outputs": [
    {
     "name": "stdout",
     "output_type": "stream",
     "text": [
      "[[1 4]\n",
      " [2 5]\n",
      " [3 6]]\n",
      "[[1 4]\n",
      " [2 5]\n",
      " [3 6]]\n",
      "[[1 4]\n",
      " [2 5]\n",
      " [3 6]]\n"
     ]
    }
   ],
   "source": [
    "# transpose \n",
    "c1 = a.transpose()\n",
    "c2 = np.transpose(a)\n",
    "c3 = a.T\n",
    "print(c1)\n",
    "print(c2)\n",
    "print(c3)"
   ]
  },
  {
   "cell_type": "code",
   "execution_count": 58,
   "id": "e06db90e-a1dc-40b3-82a5-9563dd5f1801",
   "metadata": {},
   "outputs": [
    {
     "name": "stdout",
     "output_type": "stream",
     "text": [
      "[1 2 3 4 5 6]\n"
     ]
    }
   ],
   "source": [
    "# Matrix menjadi vector baris / flatter array\n",
    "vb = np.ravel(a)\n",
    "print(vb)"
   ]
  },
  {
   "cell_type": "code",
   "execution_count": 59,
   "id": "73f606fc-ddfc-46d2-bf99-f84135ed2109",
   "metadata": {},
   "outputs": [
    {
     "name": "stdout",
     "output_type": "stream",
     "text": [
      "[[1 2]\n",
      " [3 4]\n",
      " [5 6]]\n",
      "Matriks a ukurannya (3, 2)\n"
     ]
    }
   ],
   "source": [
    "# Reshape\n",
    "a= a.reshape(3,2)\n",
    "print(a)\n",
    "print(\"Matriks a ukurannya\", a.shape)"
   ]
  },
  {
   "cell_type": "code",
   "execution_count": 62,
   "id": "f89adfdf",
   "metadata": {},
   "outputs": [
    {
     "name": "stdout",
     "output_type": "stream",
     "text": [
      "Matriks a ukurannya (4, 3)\n",
      "[[1 2 3]\n",
      " [4 5 6]\n",
      " [4 5 6]\n",
      " [4 5 6]]\n"
     ]
    }
   ],
   "source": [
    "a = np.array([(1,2,3), (4,5,6), (4,5,6),(4,5,6)])\n",
    "print(\"Matriks a ukurannya\", a.shape)\n",
    "print(a)"
   ]
  },
  {
   "cell_type": "code",
   "execution_count": 63,
   "id": "f6853caf",
   "metadata": {},
   "outputs": [
    {
     "name": "stdout",
     "output_type": "stream",
     "text": [
      "[[1 2]\n",
      " [3 4]\n",
      " [5 6]\n",
      " [4 5]\n",
      " [6 4]\n",
      " [5 6]]\n",
      "Matriks a ukurannya (6, 2)\n"
     ]
    }
   ],
   "source": [
    "a= a.reshape(6,2)\n",
    "print(a)\n",
    "print(\"Matriks a ukurannya\", a.shape)"
   ]
  }
 ],
 "metadata": {
  "kernelspec": {
   "display_name": "base",
   "language": "python",
   "name": "python3"
  },
  "language_info": {
   "codemirror_mode": {
    "name": "ipython",
    "version": 3
   },
   "file_extension": ".py",
   "mimetype": "text/x-python",
   "name": "python",
   "nbconvert_exporter": "python",
   "pygments_lexer": "ipython3",
   "version": "3.12.7"
  }
 },
 "nbformat": 4,
 "nbformat_minor": 5
}
