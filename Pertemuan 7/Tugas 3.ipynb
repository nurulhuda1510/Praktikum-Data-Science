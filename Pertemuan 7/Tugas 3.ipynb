{
 "cells": [
  {
   "cell_type": "markdown",
   "id": "a2a761b2-1ceb-4317-8c74-ec8ef01a8477",
   "metadata": {},
   "source": [
    "# Tugas 3"
   ]
  },
  {
   "cell_type": "markdown",
   "id": "65e54d63-e1d5-4dd2-ab58-c114cea35627",
   "metadata": {},
   "source": [
    "- Tugas dikerjakan pada Notebook.\n",
    "- Berikan Penjelasan terhadap setiap proses yang dilakukan\n",
    "- Tugas Dikumpulkan dengan Format NIM_TugasX\n",
    "- Deadline pada 2 Juni 2025 pukul 23.59 WIB."
   ]
  },
  {
   "cell_type": "markdown",
   "id": "095c51ac-1912-4092-af15-a7e2a65d2e29",
   "metadata": {},
   "source": [
    "Buatlah 2 Model data Science Seperti contoh pada materi yang telah dijelaskan\n",
    "Dengan ketentuan:\n",
    "1. Data yang digunakan :\n",
    "   - Boleh menggunakan data pada tugas 2\n",
    "   - Boleh menggunakan data quiz\n",
    "   - atau Menggunakan data baru namun harus dilakukan data cleaning dan visualisasi terlebih dahulu\n",
    "2. Model yang digunakan :\n",
    "   - 1 model boleh sama dengan materi dan model lainnya harus berbeda\n",
    "   - kedua model boleh berbeda dari materi\n",
    "3. Berikan kesimpulan akhir dari model yang digunakan. contohnya model mana yang lebih baik dalam melakukan tugas nya beserta alasan nya. "
   ]
  }
 ],
 "metadata": {
  "kernelspec": {
   "display_name": "Python 3 (ipykernel)",
   "language": "python",
   "name": "python3"
  },
  "language_info": {
   "codemirror_mode": {
    "name": "ipython",
    "version": 3
   },
   "file_extension": ".py",
   "mimetype": "text/x-python",
   "name": "python",
   "nbconvert_exporter": "python",
   "pygments_lexer": "ipython3",
   "version": "3.12.7"
  }
 },
 "nbformat": 4,
 "nbformat_minor": 5
}
