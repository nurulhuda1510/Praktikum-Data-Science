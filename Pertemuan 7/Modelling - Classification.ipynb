{
 "cells": [
  {
   "cell_type": "code",
   "execution_count": 2,
   "id": "64c8be05-0c71-409e-b33c-7970aa3e75d3",
   "metadata": {},
   "outputs": [],
   "source": [
    "# Proses data\n",
    "import pandas as pd\n",
    "\n",
    "# Visualisasi Data\n",
    "import matplotlib.pyplot as plt\n",
    "import seaborn as sns\n",
    "\n",
    "# Model\n",
    "from sklearn import tree\n",
    "from sklearn.ensemble import RandomForestClassifier\n",
    "\n",
    "# Evaluasi Model\n",
    "from sklearn.metrics import confusion_matrix, accuracy_score, precision_score, recall_score"
   ]
  },
  {
   "cell_type": "code",
   "execution_count": 4,
   "id": "8764e49c-267b-48ed-b7ba-9d5242aea129",
   "metadata": {},
   "outputs": [
    {
     "data": {
      "text/html": [
       "<div>\n",
       "<style scoped>\n",
       "    .dataframe tbody tr th:only-of-type {\n",
       "        vertical-align: middle;\n",
       "    }\n",
       "\n",
       "    .dataframe tbody tr th {\n",
       "        vertical-align: top;\n",
       "    }\n",
       "\n",
       "    .dataframe thead th {\n",
       "        text-align: right;\n",
       "    }\n",
       "</style>\n",
       "<table border=\"1\" class=\"dataframe\">\n",
       "  <thead>\n",
       "    <tr style=\"text-align: right;\">\n",
       "      <th></th>\n",
       "      <th>person_age</th>\n",
       "      <th>person_gender</th>\n",
       "      <th>person_education</th>\n",
       "      <th>person_income</th>\n",
       "      <th>person_emp_exp</th>\n",
       "      <th>person_home_ownership</th>\n",
       "      <th>loan_amnt</th>\n",
       "      <th>loan_intent</th>\n",
       "      <th>loan_int_rate</th>\n",
       "      <th>loan_percent_income</th>\n",
       "      <th>cb_person_cred_hist_length</th>\n",
       "      <th>credit_score</th>\n",
       "      <th>previous_loan_defaults_on_file</th>\n",
       "      <th>loan_status</th>\n",
       "    </tr>\n",
       "  </thead>\n",
       "  <tbody>\n",
       "    <tr>\n",
       "      <th>0</th>\n",
       "      <td>22.0</td>\n",
       "      <td>0</td>\n",
       "      <td>4</td>\n",
       "      <td>71948.0</td>\n",
       "      <td>0</td>\n",
       "      <td>3</td>\n",
       "      <td>35000.0</td>\n",
       "      <td>4</td>\n",
       "      <td>16.02</td>\n",
       "      <td>0.49</td>\n",
       "      <td>3.0</td>\n",
       "      <td>561</td>\n",
       "      <td>0</td>\n",
       "      <td>1</td>\n",
       "    </tr>\n",
       "    <tr>\n",
       "      <th>1</th>\n",
       "      <td>21.0</td>\n",
       "      <td>0</td>\n",
       "      <td>3</td>\n",
       "      <td>12282.0</td>\n",
       "      <td>0</td>\n",
       "      <td>2</td>\n",
       "      <td>1000.0</td>\n",
       "      <td>1</td>\n",
       "      <td>11.14</td>\n",
       "      <td>0.08</td>\n",
       "      <td>2.0</td>\n",
       "      <td>504</td>\n",
       "      <td>1</td>\n",
       "      <td>0</td>\n",
       "    </tr>\n",
       "    <tr>\n",
       "      <th>2</th>\n",
       "      <td>25.0</td>\n",
       "      <td>0</td>\n",
       "      <td>3</td>\n",
       "      <td>12438.0</td>\n",
       "      <td>3</td>\n",
       "      <td>0</td>\n",
       "      <td>5500.0</td>\n",
       "      <td>3</td>\n",
       "      <td>12.87</td>\n",
       "      <td>0.44</td>\n",
       "      <td>3.0</td>\n",
       "      <td>635</td>\n",
       "      <td>0</td>\n",
       "      <td>1</td>\n",
       "    </tr>\n",
       "    <tr>\n",
       "      <th>3</th>\n",
       "      <td>23.0</td>\n",
       "      <td>0</td>\n",
       "      <td>1</td>\n",
       "      <td>79753.0</td>\n",
       "      <td>0</td>\n",
       "      <td>3</td>\n",
       "      <td>35000.0</td>\n",
       "      <td>3</td>\n",
       "      <td>15.23</td>\n",
       "      <td>0.44</td>\n",
       "      <td>2.0</td>\n",
       "      <td>675</td>\n",
       "      <td>0</td>\n",
       "      <td>1</td>\n",
       "    </tr>\n",
       "    <tr>\n",
       "      <th>4</th>\n",
       "      <td>24.0</td>\n",
       "      <td>1</td>\n",
       "      <td>4</td>\n",
       "      <td>66135.0</td>\n",
       "      <td>1</td>\n",
       "      <td>3</td>\n",
       "      <td>35000.0</td>\n",
       "      <td>3</td>\n",
       "      <td>14.27</td>\n",
       "      <td>0.53</td>\n",
       "      <td>4.0</td>\n",
       "      <td>586</td>\n",
       "      <td>0</td>\n",
       "      <td>1</td>\n",
       "    </tr>\n",
       "  </tbody>\n",
       "</table>\n",
       "</div>"
      ],
      "text/plain": [
       "   person_age  person_gender  person_education  person_income  person_emp_exp  \\\n",
       "0        22.0              0                 4        71948.0               0   \n",
       "1        21.0              0                 3        12282.0               0   \n",
       "2        25.0              0                 3        12438.0               3   \n",
       "3        23.0              0                 1        79753.0               0   \n",
       "4        24.0              1                 4        66135.0               1   \n",
       "\n",
       "   person_home_ownership  loan_amnt  loan_intent  loan_int_rate  \\\n",
       "0                      3    35000.0            4          16.02   \n",
       "1                      2     1000.0            1          11.14   \n",
       "2                      0     5500.0            3          12.87   \n",
       "3                      3    35000.0            3          15.23   \n",
       "4                      3    35000.0            3          14.27   \n",
       "\n",
       "   loan_percent_income  cb_person_cred_hist_length  credit_score  \\\n",
       "0                 0.49                         3.0           561   \n",
       "1                 0.08                         2.0           504   \n",
       "2                 0.44                         3.0           635   \n",
       "3                 0.44                         2.0           675   \n",
       "4                 0.53                         4.0           586   \n",
       "\n",
       "   previous_loan_defaults_on_file  loan_status  \n",
       "0                               0            1  \n",
       "1                               1            0  \n",
       "2                               0            1  \n",
       "3                               0            1  \n",
       "4                               0            1  "
      ]
     },
     "execution_count": 4,
     "metadata": {},
     "output_type": "execute_result"
    }
   ],
   "source": [
    "df=pd.read_csv(\"loan_clean.csv\")\n",
    "df.head()"
   ]
  },
  {
   "cell_type": "markdown",
   "id": "95fd1ff5-6729-4821-ae91-97178ec1dd43",
   "metadata": {},
   "source": [
    "### Imbalance Problem"
   ]
  },
  {
   "cell_type": "code",
   "execution_count": 6,
   "id": "7fed04af-dbfe-4466-8e75-97f99a5e3679",
   "metadata": {},
   "outputs": [
    {
     "data": {
      "text/plain": [
       "loan_status\n",
       "0    35000\n",
       "1    10000\n",
       "Name: count, dtype: int64"
      ]
     },
     "execution_count": 6,
     "metadata": {},
     "output_type": "execute_result"
    }
   ],
   "source": [
    "df[\"loan_status\"].value_counts()"
   ]
  },
  {
   "cell_type": "code",
   "execution_count": 8,
   "id": "f96f86d4-d14b-4654-8152-f6de20743af2",
   "metadata": {},
   "outputs": [
    {
     "data": {
      "image/png": "[encoded data removed]",
      "text/plain": [
       "<Figure size 640x480 with 1 Axes>"
      ]
     },
     "metadata": {},
     "output_type": "display_data"
    }
   ],
   "source": [
    "import matplotlib.pyplot as plt\n",
    "import seaborn as sns\n",
    "ax = sns.countplot(data = df, x='loan_status')"
   ]
  },
  {
   "cell_type": "markdown",
   "id": "97eb363f-1ff8-4219-82a4-f043a72dc264",
   "metadata": {},
   "source": [
    "### - Oversampling"
   ]
  },
  {
   "cell_type": "code",
   "execution_count": 10,
   "id": "5de6571d-d83c-4667-ab90-51856343c8f1",
   "metadata": {},
   "outputs": [
    {
     "name": "stdout",
     "output_type": "stream",
     "text": [
      "loan_status\n",
      "1    35000\n",
      "0    35000\n",
      "Name: count, dtype: int64\n"
     ]
    }
   ],
   "source": [
    "from sklearn.utils import resample\n",
    "\n",
    "#create two different dataframe of majority and minority class \n",
    "df_majority = df[df['loan_status']==0] \n",
    "df_minority = df[df['loan_status']==1]\n",
    "\n",
    "# upsample minority class\n",
    "df_minority_upsampled = resample(df_minority, \n",
    "                                 replace=True,    # sample with replacement\n",
    "                                 n_samples= 35000, # to match majority class\n",
    "                                 random_state=42)  # reproducible results\n",
    "\n",
    "# Combine majority class with upsampled minority class\n",
    "df_upsampled = pd.concat([df_minority_upsampled, df_majority])\n",
    "print(df_upsampled['loan_status'].value_counts())"
   ]
  },
  {
   "cell_type": "markdown",
   "id": "bfe51127-5a1f-482e-806e-ba4de2dc83b7",
   "metadata": {},
   "source": [
    "### - Undersampling"
   ]
  },
  {
   "cell_type": "code",
   "execution_count": 12,
   "id": "73d0c644-1754-43a2-a2cc-62dfb9253ac3",
   "metadata": {},
   "outputs": [
    {
     "name": "stdout",
     "output_type": "stream",
     "text": [
      "loan_status\n",
      "0    10000\n",
      "1    10000\n",
      "Name: count, dtype: int64\n"
     ]
    }
   ],
   "source": [
    "df_majority_downsampled = resample(df_majority, \n",
    "                                 replace=True,    # sample with replacement\n",
    "                                 n_samples= 10000, # to match minority class\n",
    "                                 random_state=42)  # reproducible results\n",
    "\n",
    "# Combine minority class with downsampled majority class\n",
    "df_downsampled = pd.concat([df_majority_downsampled, df_minority])\n",
    "print(df_downsampled['loan_status'].value_counts())"
   ]
  },
  {
   "cell_type": "markdown",
   "id": "75ffcb54-fd4a-4a89-97ef-6be3b492dab4",
   "metadata": {},
   "source": [
    "### Train Test Split"
   ]
  },
  {
   "cell_type": "code",
   "execution_count": 14,
   "id": "f9d3ebe3-2884-4a86-9d33-e1de7bad48d0",
   "metadata": {},
   "outputs": [],
   "source": [
    "X = df_upsampled.drop(['loan_status'], axis=1)\n",
    "y = df_upsampled['loan_status']"
   ]
  },
  {
   "cell_type": "code",
   "execution_count": 16,
   "id": "56e98ebf-82d4-49b1-8372-9fab3f7c302e",
   "metadata": {},
   "outputs": [
    {
     "name": "stdout",
     "output_type": "stream",
     "text": [
      "X train: (56000, 13)\n",
      "y train: (56000,)\n",
      "X test: (14000, 13)\n",
      "y test: (14000,)\n"
     ]
    }
   ],
   "source": [
    "from sklearn.model_selection import train_test_split\n",
    "\n",
    "X_train, X_test, y_train, y_test = train_test_split(X, y, test_size=0.2,\n",
    "                                                    random_state=42)\n",
    "print(f\"X train: {X_train.shape}\")\n",
    "print(f\"y train: {y_train.shape}\")\n",
    "print(f\"X test: {X_test.shape}\")\n",
    "print(f\"y test: {y_test.shape}\")"
   ]
  },
  {
   "cell_type": "markdown",
   "id": "00b03998-5203-4dd6-9c48-e77396988c6f",
   "metadata": {},
   "source": [
    "### Model"
   ]
  },
  {
   "cell_type": "markdown",
   "id": "fd8decb2-9498-4863-8498-57ea73a77033",
   "metadata": {},
   "source": [
    "### 1. Decision Tree"
   ]
  },
  {
   "cell_type": "code",
   "execution_count": 18,
   "id": "af615ab8-e083-49d3-be38-1f9199dbd5c9",
   "metadata": {},
   "outputs": [],
   "source": [
    "dtree = tree.DecisionTreeClassifier()\n",
    "dtree = dtree.fit(X_train, y_train)\n",
    "y_dtree = dtree.predict(X_test)"
   ]
  },
  {
   "cell_type": "code",
   "execution_count": 20,
   "id": "3010b782-1ae2-4359-88f3-4ae2ecc47ec7",
   "metadata": {},
   "outputs": [
    {
     "name": "stdout",
     "output_type": "stream",
     "text": [
      "Confusion Matrix DT:\n",
      " [[6525  506]\n",
      " [  71 6898]]\n",
      "Akurasi DT: 0.9587857142857142\n",
      "Precision DT: 0.9604472317423687\n",
      "Recall DT: 0.9589225107047508\n"
     ]
    }
   ],
   "source": [
    "print(\"Confusion Matrix DT:\\n\",confusion_matrix(y_test, y_dtree))\n",
    "print(\"Akurasi DT:\",accuracy_score(y_test, y_dtree))\n",
    "print(\"Precision DT:\",precision_score(y_test, y_dtree, average='macro'))\n",
    "print(\"Recall DT:\",recall_score(y_test, y_dtree, average='macro'))"
   ]
  },
  {
   "cell_type": "code",
   "execution_count": 22,
   "id": "47a080b5-b619-480a-b971-e744a51a7794",
   "metadata": {},
   "outputs": [
    {
     "name": "stdout",
     "output_type": "stream",
     "text": [
      "[1 0 0 1]\n"
     ]
    }
   ],
   "source": [
    "feature_names = ['person_age', 'person_gender', 'person_education', 'person_income', \n",
    "                 'person_emp_exp', 'person_home_ownership', 'loan_amnt', 'loan_intent',\n",
    "                 'loan_int_rate', 'loan_percent_income', 'cb_person_cred_hist_length',\n",
    "                 'credit_score', 'previous_loan_defaults_on_file']\n",
    "\n",
    "# Data baru tanpa kolom target\n",
    "data_baru = [\n",
    "    [22.0, 0, 4, 71948.0, 0, 3, 35000.0, 4, 16.02, 0.49, 3.0, 561, 0],\n",
    "    [35.0, 1, 2, 55000.0, 5, 1, 15000.0, 2, 13.5, 0.27, 6.0, 620, 0],\n",
    "    [28.0, 0, 3, 30000.0, 2, 2, 8000.0, 3, 12.7, 0.26, 4.0, 610, 1],\n",
    "    [45.0, 1, 1, 72000.0, 10, 3, 20000.0, 0, 14.1, 0.28, 10.0, 650, 0],\n",
    "]\n",
    "\n",
    "# Buat DataFrame\n",
    "df_baru = pd.DataFrame(data_baru, columns=feature_names)\n",
    "\n",
    "# Prediksi\n",
    "preds = dtree.predict(df_baru)\n",
    "print(preds)"
   ]
  },
  {
   "cell_type": "markdown",
   "id": "eb13e741-bad7-444a-9c50-a0d22d8293de",
   "metadata": {},
   "source": [
    "### 2. Random Forest "
   ]
  },
  {
   "cell_type": "code",
   "execution_count": 24,
   "id": "47c4c5be-6d7b-4f8d-a6c5-392c7c571060",
   "metadata": {},
   "outputs": [],
   "source": [
    "from sklearn.ensemble import RandomForestClassifier\n",
    "\n",
    "rf = RandomForestClassifier(random_state=42, max_depth=5, n_estimators=100)\n",
    "\n",
    "rf.fit(X_train, y_train)\n",
    "y_rf = rf.predict(X_test)"
   ]
  },
  {
   "cell_type": "code",
   "execution_count": 26,
   "id": "5b5105bd-f769-4536-97f9-c624b5a7d270",
   "metadata": {},
   "outputs": [
    {
     "name": "stdout",
     "output_type": "stream",
     "text": [
      "Confusion Matrix RF:\n",
      " [[6005 1026]\n",
      " [ 661 6308]]\n",
      "Akurasi RF: 0.8795\n",
      "Precision RF: 0.880471855475703\n",
      "Recall RF: 0.8796130981262714\n"
     ]
    }
   ],
   "source": [
    "print(\"Confusion Matrix RF:\\n\",confusion_matrix(y_test, y_rf))\n",
    "print(\"Akurasi RF:\",accuracy_score(y_test, y_rf))\n",
    "print(\"Precision RF:\",precision_score(y_test, y_rf, average='macro'))\n",
    "print(\"Recall RF:\",recall_score(y_test, y_rf, average='macro'))"
   ]
  },
  {
   "cell_type": "code",
   "execution_count": 28,
   "id": "bab47c0d-5c42-48b6-823e-87aad979b029",
   "metadata": {},
   "outputs": [
    {
     "name": "stdout",
     "output_type": "stream",
     "text": [
      "[1 1 0 1]\n"
     ]
    }
   ],
   "source": [
    "feature_names = ['person_age', 'person_gender', 'person_education', 'person_income', \n",
    "                 'person_emp_exp', 'person_home_ownership', 'loan_amnt', 'loan_intent',\n",
    "                 'loan_int_rate', 'loan_percent_income', 'cb_person_cred_hist_length',\n",
    "                 'credit_score', 'previous_loan_defaults_on_file']\n",
    "\n",
    "# Data baru tanpa kolom target\n",
    "data_baru = [\n",
    "    [22.0, 0, 4, 71948.0, 0, 3, 35000.0, 4, 16.02, 0.49, 3.0, 561, 0],\n",
    "    [35.0, 1, 2, 55000.0, 5, 1, 15000.0, 2, 13.5, 0.27, 6.0, 620, 0],\n",
    "    [28.0, 0, 3, 30000.0, 2, 2, 8000.0, 3, 12.7, 0.26, 4.0, 610, 1],\n",
    "    [45.0, 1, 1, 72000.0, 10, 3, 20000.0, 0, 14.1, 0.28, 10.0, 650, 0],\n",
    "]\n",
    "\n",
    "# Buat DataFrame\n",
    "df_baru = pd.DataFrame(data_baru, columns=feature_names)\n",
    "\n",
    "# Prediksi\n",
    "preds = rf.predict(df_baru)\n",
    "print(preds)"
   ]
  },
  {
   "cell_type": "code",
   "execution_count": null,
   "id": "ff48cff6-8303-44f5-93e7-d5292891f6f7",
   "metadata": {},
   "outputs": [],
   "source": []
  }
 ],
 "metadata": {
  "kernelspec": {
   "display_name": "Python 3 (ipykernel)",
   "language": "python",
   "name": "python3"
  },
  "language_info": {
   "codemirror_mode": {
    "name": "ipython",
    "version": 3
   },
   "file_extension": ".py",
   "mimetype": "text/x-python",
   "name": "python",
   "nbconvert_exporter": "python",
   "pygments_lexer": "ipython3",
   "version": "3.12.7"
  }
 },
 "nbformat": 4,
 "nbformat_minor": 5
}
