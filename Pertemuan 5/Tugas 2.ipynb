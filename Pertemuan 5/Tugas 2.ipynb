{
 "cells": [
  {
   "cell_type": "markdown",
   "id": "6cc6c4fa-3309-4adf-b339-36cc910c144b",
   "metadata": {},
   "source": [
    "# Tugas 2 "
   ]
  },
  {
   "cell_type": "markdown",
   "id": "5ac9e35c-c063-47db-b191-84bc4f5220cb",
   "metadata": {},
   "source": [
    "- Tugas dikerjakan pada Notebook.\n",
    "- Tugas Dikumpulkan dengan Format NIM_TugasX\n",
    "- Deadline pada 28 April 2025 pukul 11.59 WIB."
   ]
  },
  {
   "cell_type": "markdown",
   "id": "a9654363-c8fb-4ecc-b165-3068e38a44c8",
   "metadata": {},
   "source": [
    "Carilah sebuah dataset lalu Lakukan Proses Data Preposesing dan Visualisasi data pada data tersebut. \n",
    "Dengan ketentuan:\n",
    "1. Tidak boleh sama dengan materi\n",
    "2. Jelaskan Proses yang dilakukan pada saat melakukan Data Preposesing dan Visualisasi data.\n",
    "3. Dataset minimal memiliki 1000 baris Data\n",
    "4. Tidak Boleh sama dengan teman yang lainnya."
   ]
  },
  {
   "cell_type": "code",
   "execution_count": null,
   "id": "0f5d5827-3d7c-4d09-a45c-73f4b9611d2e",
   "metadata": {},
   "outputs": [],
   "source": []
  }
 ],
 "metadata": {
  "kernelspec": {
   "display_name": "Python 3 (ipykernel)",
   "language": "python",
   "name": "python3"
  },
  "language_info": {
   "codemirror_mode": {
    "name": "ipython",
    "version": 3
   },
   "file_extension": ".py",
   "mimetype": "text/x-python",
   "name": "python",
   "nbconvert_exporter": "python",
   "pygments_lexer": "ipython3",
   "version": "3.12.7"
  }
 },
 "nbformat": 4,
 "nbformat_minor": 5
}
